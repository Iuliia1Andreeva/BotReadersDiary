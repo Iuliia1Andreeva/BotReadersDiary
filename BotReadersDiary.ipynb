{
 "cells": [
  {
   "cell_type": "code",
   "execution_count": null,
   "metadata": {},
   "outputs": [],
   "source": [
    "from bs4 import BeautifulSoup\n",
    "from time import sleep\n",
    "import requests\n",
    "import pandas as pd\n",
    "from fake_useragent import UserAgent\n",
    "\n",
    "url = \"https://www.labirint.ru/genres/3000/\"\n",
    "\n",
    "response = requests.get(url, headers={'User-Agent': UserAgent().chrome})\n",
    "# for key, value in response.request.headers.items():\n",
    "# print(key+\": \"+value)\n",
    "\n",
    "# print(response)\n",
    "soup = BeautifulSoup(response.text, 'html.parser')\n",
    "\n",
    "starting_page = 'https://www.labirint.ru'"
   ]
  },
  {
   "cell_type": "markdown",
   "metadata": {},
   "source": [
    "Загрузим необходимые библиотеки. Библиотеку fake_useragent будем использовать, чтобы роботы не блокировали нашу кражу информации о книжках.\n",
    "Парсить будем сайт лабиринт. Пройдемся по всем жанрам и выберем там самые новые книги"
   ]
  },
  {
   "cell_type": "code",
   "execution_count": null,
   "metadata": {},
   "outputs": [],
   "source": [
    "types = soup.find_all(\"a\", rel=\"nofollow\")\n",
    "list_of_genres = []\n",
    "list_of_genres_without_href = []\n",
    "name_of_genres = []\n",
    "for tipe in types:\n",
    "    if tipe.text != '' and tipe.get('href')[:5] == \"/genr\" and tipe.text not in name_of_genres:\n",
    "        sublist = [tipe.text, tipe.get('href')]\n",
    "        name_of_genres.append(tipe.text)  # name of table\n",
    "        list_of_genres.append(sublist)\n",
    "        list_of_genres_without_href.append(tipe.text)"
   ]
  },
  {
   "cell_type": "markdown",
   "metadata": {},
   "source": [
    "Изучив HTML разметку страницы приходим к очевидному выводу, что ссылки на странички с жанрами лежат в тегах < a > с классом \"nofollow\"\n",
    "Нам нужно найти все жанры которые предложены сайтом и найти ссылки, которые переводят нас на эти странички"
   ]
  },
  {
   "cell_type": "code",
   "execution_count": null,
   "metadata": {},
   "outputs": [],
   "source": [
    "list_of_book_hrefs = []\n",
    "list_of_books_names = []\n",
    "list_of_books_descriptions = []\n",
    "list_of_books_images = []\n",
    "list_of_books_genres = []\n",
    "\n",
    "about_books = []\n",
    "for i in range(len(list_of_genres)):\n",
    "    new_url = starting_page + list_of_genres[i][1]\n",
    "    # print(new_url)\n",
    "    new_response = requests.get(new_url, headers={'User-Agent': UserAgent().chrome})\n",
    "    genre = BeautifulSoup(new_response.text, 'html.parser')\n",
    "    books = genre.find_all(\"a\", class_=\"cover cover-tooltip\")\n",
    "    for book in books:\n",
    "        list_of_books_genres.append(list_of_genres[i][0])\n",
    "        about_books.append([list_of_genres[i][0], book.get('title')])\n",
    "        list_of_book_hrefs.append(book.get('href'))\n",
    "        list_of_books_names.append(book.get('title'))\n",
    "        sleep(1)\n",
    "        list_of_books_images.append(book.parent.parent.find(\"img\").get(\"data-src\"))\n",
    "        book_url = starting_page + book.get('href')\n",
    "        sleep(1)\n",
    "        print(book_url)\n",
    "        book_response = requests.get(book_url, headers={'User-Agent': UserAgent().chrome})\n",
    "        # print(book_response)\n",
    "        detail = BeautifulSoup(book_response.text, 'html.parser')\n",
    "        sleep(1)\n",
    "        detail_ = detail.find(id=\"fullannotation\")\n",
    "        if detail_ is not None:\n",
    "            list_of_books_descriptions.append(detail_.p)\n",
    "        else:\n",
    "            list_of_books_descriptions.append(None)\n"
   ]
  },
  {
   "cell_type": "markdown",
   "metadata": {},
   "source": [
    "Перейдя на сайт с жанрами, для каждой ссылки ищем необходимое поле с новыми книгами в этой области. Так как книг, относящихся к конкретному жанру очень много и не все они новы, то парсить имеет смысл только те жанры, в которых есть обновления недавние. Мы находим названия книг, описания, ссылку на изображение и ссылку на книгу в интернет магазине"
   ]
  },
  {
   "cell_type": "code",
   "execution_count": null,
   "metadata": {},
   "outputs": [],
   "source": [
    "boooks_dict = {\"list_of_book_names\": list_of_books_names, 'list_of_books_descriptions': list_of_books_descriptions,\n",
    "               \"list_of_books_images\": list_of_books_images, \"list_of_book_hrefs\": list_of_book_hrefs,\n",
    "               \"list_of_books_genres\": list_of_books_genres}\n",
    "\n",
    "BookData = pd.DataFrame(boooks_dict, columns=boooks_dict.keys())\n",
    "BookData.to_csv('BookData.csv')"
   ]
  },
  {
   "cell_type": "markdown",
   "metadata": {},
   "source": [
    "После того, как все запарсили, создадим табличку, в которой будем хранить необходимые данные для отправки пользователю. Сохраним ее."
   ]
  },
  {
   "cell_type": "code",
   "execution_count": null,
   "metadata": {},
   "outputs": [],
   "source": [
    "import sqlite3\n",
    "\n",
    "conn = sqlite3.connect('books.db')\n",
    "\n",
    "cursor = conn.cursor()\n",
    "\n",
    "try:\n",
    "    user = \"CREATE TABLE \\\"books\\\" (\\\"ID\\\" INTEGER UNIQUE, \\\"user_id\\\" INTEGER, \\\"book\\\" TEXT, \\\"ReadUnread\\\" TEXT, \\\"IMPRESSION\\\", PRIMARY KEY (\\\"ID\\\"))\"\n",
    "    cursor.execute(user)\n",
    "except:\n",
    "    pass"
   ]
  },
  {
   "cell_type": "markdown",
   "metadata": {},
   "source": [
    "Так как бот не только предлагает читателю книги, но еще и интересуется его мнением по поводу прочитанного, нам необходимо создать базу данных, а также табличку внутри нее, чтобы сохранять то, что пишет пользователь. В итоговой версии проекта столбец ReadUnread не используется, но в следующих версиях бота он будет необходим."
   ]
  },
  {
   "cell_type": "markdown",
   "metadata": {},
   "source": [
    "## Приступим к написанию бота"
   ]
  },
  {
   "cell_type": "code",
   "execution_count": null,
   "metadata": {},
   "outputs": [],
   "source": [
    "# import config - импортируем файл с токеном\n",
    "import sqlite3\n",
    "import telebot\n",
    "from telebot import types\n",
    "import pandas as pd\n",
    "import random as rd\n",
    "\n",
    "bot = telebot.TeleBot(config.token)\n",
    "\n",
    "\n",
    "@bot.message_handler(commands=['start'])\n",
    "def send_keyboard(message, text=\"Привет, хочешь поговорить на книжные темы?)\"):\n",
    "    keyboard_start = types.ReplyKeyboardMarkup(row_width=3)\n",
    "    itembtn1 = types.KeyboardButton('Рассказать о книге')\n",
    "    itembtn3 = types.KeyboardButton('Посмотреть запись о книге')\n",
    "    itembtn4 = types.KeyboardButton(\"Найти новую книгу\")\n",
    "    itembtn5 = types.KeyboardButton('Пока все!')\n",
    "    keyboard_start.add(itembtn1, itembtn4)\n",
    "    keyboard_start.add(itembtn3)\n",
    "    keyboard_start.add(itembtn5)\n",
    "\n",
    "    msg = bot.send_message(message.from_user.id,\n",
    "                           text=text, reply_markup=keyboard_start)\n",
    "    bot.register_next_step_handler(msg, callback_worker)"
   ]
  },
  {
   "cell_type": "markdown",
   "metadata": {},
   "source": [
    "Первое чтто нужно сделать -- это создать клавиатуру для бота"
   ]
  },
  {
   "cell_type": "markdown",
   "metadata": {},
   "source": [
    "Будем добавлять в бота функции"
   ]
  },
  {
   "cell_type": "code",
   "execution_count": null,
   "metadata": {},
   "outputs": [],
   "source": [
    "def add_impression(msg):\n",
    "    with sqlite3.connect('books.db') as con:\n",
    "        user_message = msg.text\n",
    "        name_and_author = ''\n",
    "        impression = ''\n",
    "        key = 0\n",
    "        for i in range(len(user_message)):\n",
    "            if user_message[i] == \")\":\n",
    "                key = i\n",
    "            if key == 0 and user_message[i] != \"(\" and user_message[i] != ')':\n",
    "                name_and_author += user_message[i]\n",
    "            elif user_message[i] != \")\" and user_message[i] != '(':\n",
    "                impression += user_message[i]\n",
    "        cursor = con.cursor()\n",
    "        cursor.execute('INSERT INTO books (user_id, book, IMPRESSION, ReadUnread) VALUES (?, ?, ?, ?)',\n",
    "                       (msg.from_user.id, name_and_author, impression, \"READ\"))\n",
    "        con.commit()\n",
    "    bot.send_message(msg.chat.id, 'Очень интересный рассказ! Буду знать больше про эту книгу:)')\n",
    "    send_keyboard(msg, \"Что-то еще интересное про книжки?\")"
   ]
  },
  {
   "cell_type": "markdown",
   "metadata": {},
   "source": [
    "Первая функция работает с базой данных и спрашивает у пользователя про впечатление о прочитанной книге. Пользователь вводит название книги и впечатление в указанном формате. "
   ]
  },
  {
   "cell_type": "code",
   "execution_count": null,
   "metadata": {},
   "outputs": [],
   "source": [
    "def send_keyboard_3(message, text=\"Выбери жанр)\"):\n",
    "    bot.send_message(message.chat.id, 'Отлично)(')\n",
    "    keyboard_start_3 = types.ReplyKeyboardMarkup(row_width=3)\n",
    "    itembtn1 = types.KeyboardButton('Бизнес. Экономика')\n",
    "    itembtn3 = types.KeyboardButton('Естественные науки')\n",
    "    itembtn4 = types.KeyboardButton(\"Книги для родителей\")\n",
    "    itembtn5 = types.KeyboardButton('Кулинария')\n",
    "    itembtn6 = types.KeyboardButton('Медицина и здоровье')\n",
    "    itembtn7 = types.KeyboardButton('Психология')\n",
    "    itembtn8 = types.KeyboardButton('Публицистика')\n",
    "    itembtn9 = types.KeyboardButton('Главные книги отдела')\n",
    "    keyboard_start_3.add(itembtn1, itembtn3, itembtn4)\n",
    "    keyboard_start_3.add(itembtn5, itembtn6, itembtn7)\n",
    "    keyboard_start_3.add(itembtn8, itembtn9)\n",
    "    msg = bot.send_message(message.from_user.id,\n",
    "                           text=text, reply_markup=keyboard_start_3)\n",
    "    bot.register_next_step_handler(msg, find_new)"
   ]
  },
  {
   "cell_type": "markdown",
   "metadata": {},
   "source": [
    "Будем использовать другую клавиатуру для того, чтобы упростить пользователю поиск книги по жанру"
   ]
  },
  {
   "cell_type": "code",
   "execution_count": null,
   "metadata": {},
   "outputs": [],
   "source": [
    "def find_new(msg):\n",
    "    user_message = msg.text\n",
    "    pd.set_option('display.max_colwidth', 100000)\n",
    "    BookData = pd.read_csv('BookData.csv')\n",
    "    genre = BookData.loc[BookData['list_of_books_genres'] == user_message]\n",
    "    Size = genre.shape[1]\n",
    "    number = rd.randint(0, Size)\n",
    "    srez = genre.iloc[[number], :]\n",
    "    name = srez['list_of_book_names']\n",
    "    description = str(srez['list_of_books_descriptions'].tolist()[0])\n",
    "    image = srez['list_of_books_images'].tolist()[0]\n",
    "    href = 'https://www.labirint.ru' + srez['list_of_book_hrefs']\n",
    "    print(image)\n",
    "    print(description)\n",
    "    bot.send_photo(msg.chat.id, image)\n",
    "    if description is None or description == 'nan':\n",
    "        answer = name + '\\n' + href\n",
    "    else:\n",
    "        description = description.replace('<p>', '')\n",
    "        description = description.replace('<br', \"\")\n",
    "        description = description.replace(\"</p>\", '')\n",
    "        description = description.replace('<br/', '')\n",
    "        description = description.replace('/>', '')\n",
    "        print(description)\n",
    "        answer = name + '\\n' + description + '\\n' + href\n",
    "    bot.send_message(msg.chat.id, answer)\n",
    "\n",
    "    send_keyboard(msg, \"Что-то еще интересное про книжки?\")"
   ]
  },
  {
   "cell_type": "markdown",
   "metadata": {},
   "source": [
    "Перейдем к функции, которая отвечает за поиск новой книги. В процессе парсинга мы столкнулись с проблемой: описание книги не обращается в обычный текст из-за тегов <br>, поэтому ручками уберем все эти теги. Также не для всех книг нашлось описание, поэтому некоторые книги будут представлены в формате название + изображение + ссылка"
   ]
  },
  {
   "cell_type": "code",
   "execution_count": null,
   "metadata": {},
   "outputs": [],
   "source": [
    "def get_impression_string(impr):\n",
    "    impr_str = []\n",
    "    for val in list(enumerate(impr)):\n",
    "        impr_str.append(str(val[1][2]) + '-' + str(val[1][4]) + '\\n')\n",
    "    return ''.join(impr_str)\n",
    "\n",
    "\n",
    "def show_impressions(msg):\n",
    "    print(\"We are here\")\n",
    "    with sqlite3.connect('books.db') as con:\n",
    "        cursor = con.cursor()\n",
    "        cursor.execute('SELECT * FROM books WHERE user_id=={}'.format(msg.from_user.id))\n",
    "        tasks = get_impression_string(cursor.fetchall())\n",
    "        bot.send_message(msg.chat.id, tasks)\n",
    "        send_keyboard(msg, \"Чем еще могу помочь?\")"
   ]
  },
  {
   "cell_type": "markdown",
   "metadata": {},
   "source": [
    "Обратимся к базе данных, чтобы вытащить все записи пользователя о книге с помощью второй функции, а с помощью первой функции выведем записи в аккуратном формате"
   ]
  },
  {
   "cell_type": "code",
   "execution_count": null,
   "metadata": {},
   "outputs": [],
   "source": [
    "def callback_worker(call):\n",
    "    if call.text == \"Рассказать о книге\":\n",
    "        msg = bot.send_message(call.chat.id,\n",
    "                               'Давай обсудим твои впечатления о книге! Напиши название книги и свое впечатление в следующем формате: \\n (Название, автор)  Впечатления о книге')\n",
    "        bot.register_next_step_handler(msg, add_impression)\n",
    "\n",
    "    elif call.text == \"Найти новую книгу\":\n",
    "        msg = bot.send_message(call.chat.id, 'Процесс выполняется, как ваше настроение?')\n",
    "        bot.register_next_step_handler(msg, send_keyboard_3)\n",
    "\n",
    "    elif call.text == \"Посмотреть запись о книге\":\n",
    "        try:\n",
    "            bot.register_next_step_handler(call, show_impressions)\n",
    "        except:\n",
    "            bot.send_message(call.chat.id, 'Здесь пусто. Если хочешь, можем подобрать тебе книгу прямо сейчас!')\n",
    "            send_keyboard(call, \"Чем еще могу помочь?\")\n",
    "\n",
    "    elif call.text == \"Пока все!\":\n",
    "        bot.send_message(call.chat.id, 'Хорошего дня! Когда захотите продолжнить нажмите на команду /start')"
   ]
  },
  {
   "cell_type": "markdown",
   "metadata": {},
   "source": [
    "Создадим главную функцию для обработки запросов к боту"
   ]
  },
  {
   "cell_type": "code",
   "execution_count": null,
   "metadata": {},
   "outputs": [],
   "source": [
    "if __name__ == '__main__':\n",
    "    bot.infinity_polling()"
   ]
  },
  {
   "cell_type": "markdown",
   "metadata": {},
   "source": [
    "### Заверщающий момент"
   ]
  }
 ],
 "metadata": {
  "kernelspec": {
   "display_name": "Python 3",
   "language": "python",
   "name": "python3"
  },
  "language_info": {
   "codemirror_mode": {
    "name": "ipython",
    "version": 3
   },
   "file_extension": ".py",
   "mimetype": "text/x-python",
   "name": "python",
   "nbconvert_exporter": "python",
   "pygments_lexer": "ipython3",
   "version": "3.8.5"
  }
 },
 "nbformat": 4,
 "nbformat_minor": 4
}
